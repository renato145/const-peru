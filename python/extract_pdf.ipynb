{
 "cells": [
  {
   "cell_type": "code",
   "execution_count": 2,
   "metadata": {},
   "outputs": [],
   "source": [
    "import pdfplumber, json\n",
    "from fastcore.all import *\n",
    "from configparser import ConfigParser"
   ]
  },
  {
   "cell_type": "code",
   "execution_count": 3,
   "metadata": {},
   "outputs": [],
   "source": [
    "config = ConfigParser()\n",
    "config.read('settings.ini')\n",
    "cfg = config['DEFAULT']"
   ]
  },
  {
   "cell_type": "code",
   "execution_count": 4,
   "metadata": {},
   "outputs": [],
   "source": [
    "def download_pdf(url, dest):\n",
    "    if not Path(dest).exists(): urlsave(url, dest)\n",
    "    return dest"
   ]
  },
  {
   "cell_type": "code",
   "execution_count": 5,
   "metadata": {},
   "outputs": [],
   "source": [
    "path = download_pdf(cfg['url'], cfg['dest'])"
   ]
  },
  {
   "cell_type": "code",
   "execution_count": 6,
   "metadata": {},
   "outputs": [],
   "source": [
    "def get_pdf_text(path):\n",
    "    with pdfplumber.open(path) as pdf: res = L(pdf.pages).map(lambda x: x.extract_text())\n",
    "    return res"
   ]
  },
  {
   "cell_type": "code",
   "execution_count": 7,
   "metadata": {},
   "outputs": [],
   "source": [
    "pdf_text = get_pdf_text(path)"
   ]
  },
  {
   "cell_type": "code",
   "execution_count": 8,
   "metadata": {},
   "outputs": [],
   "source": [
    "def remove_header(s): return remove_prefix(s, 'La Constitución \\n')"
   ]
  },
  {
   "cell_type": "code",
   "execution_count": 9,
   "metadata": {},
   "outputs": [],
   "source": [
    "pat_pagenum = re.compile(r'\\n\\s+\\d+\\s*$')\n",
    "def remove_pagenum(s): return pat_pagenum.sub('', s)"
   ]
  },
  {
   "cell_type": "code",
   "execution_count": 10,
   "metadata": {},
   "outputs": [],
   "source": [
    "def process_page(s):\n",
    "    pipe = [remove_header, remove_pagenum]\n",
    "    for f in pipe: s = f(s)\n",
    "    return s"
   ]
  },
  {
   "cell_type": "code",
   "execution_count": 11,
   "metadata": {},
   "outputs": [],
   "source": [
    "proc_pages = pdf_text.map(process_page)"
   ]
  },
  {
   "cell_type": "code",
   "execution_count": 12,
   "metadata": {},
   "outputs": [],
   "source": [
    "pat_footnote = re.compile(r'\\n\\d+\\s(?:.|\\s)*')\n",
    "pat_footnote_n = re.compile(r'(\\d+)\\s.*')\n",
    "\n",
    "def split_footnote(s):\n",
    "    mat = pat_footnote_n.match(s)\n",
    "    return (int(mat.group(1)),s[mat.end(1):].strip())\n",
    "\n",
    "def extract_footnotes(s):\n",
    "    footnote = pat_footnote.search(s)\n",
    "    footnotes = []\n",
    "    \n",
    "    if footnote is not None:\n",
    "        footnotes.append(footnote.group().strip())\n",
    "        mat = pat_footnote_n.match(footnotes[0])\n",
    "        n = int(mat.group(1))\n",
    "        \n",
    "        while True:\n",
    "            pat = f'\\n({int(mat.group(1))+1}) '\n",
    "            mat = re.search(pat, footnotes[-1])\n",
    "            if mat is None: break\n",
    "            i = mat.start(1)\n",
    "            footnotes.append(footnotes[-1][i:])\n",
    "            footnotes[-2] = footnotes[-2][:i]\n",
    "            \n",
    "        footnotes = L(footnotes).map(lambda x: x.strip().replace('\\n', '')).map(split_footnote)\n",
    "        \n",
    "    new_s = pat_footnote.sub('',s)\n",
    "    footnotes = dict(footnotes)\n",
    "    \n",
    "    for idx in footnotes.keys():\n",
    "        pat = f'(?<!Artículo\\s)[^\\d\\n]({idx})[^\\d]'\n",
    "        mat = re.search(pat, new_s)\n",
    "        assert len(mat.groups()) == 1\n",
    "        i,j = mat.start(1),mat.end(1)\n",
    "        new_s = f'{new_s[:i]}[^{idx}]{new_s[j:]}'\n",
    "    \n",
    "    return new_s,footnotes"
   ]
  },
  {
   "cell_type": "code",
   "execution_count": 13,
   "metadata": {},
   "outputs": [],
   "source": [
    "proc_text,proc_footnotes = zip(*proc_pages.map(extract_footnotes))\n",
    "# proc_text = ''.join([o.strip() for o in proc_text])\n",
    "proc_text = ''.join(proc_text)\n",
    "proc_footnotes = merge(*proc_footnotes)"
   ]
  },
  {
   "cell_type": "code",
   "execution_count": 14,
   "metadata": {},
   "outputs": [],
   "source": [
    "def roman_to_int(s):\n",
    "    s = s.upper()\n",
    "    rom_val = {'I': 1, 'V': 5, 'X': 10, 'L': 50, 'C': 100, 'D': 500, 'M': 1000}\n",
    "    int_val = 0\n",
    "    for i in range(len(s)):\n",
    "        if i > 0 and rom_val[s[i]] > rom_val[s[i - 1]]: int_val += rom_val[s[i]] - 2 * rom_val[s[i - 1]]\n",
    "        else                                          : int_val += rom_val[s[i]]\n",
    "    return int_val"
   ]
  },
  {
   "cell_type": "markdown",
   "metadata": {},
   "source": [
    "Extract intro"
   ]
  },
  {
   "cell_type": "code",
   "execution_count": 15,
   "metadata": {},
   "outputs": [],
   "source": [
    "pat_title = re.compile(r'(TITULO)\\s(\\w+)\\b')\n",
    "pat_ref = re.compile(r'\\[\\^(\\d+)\\]')"
   ]
  },
  {
   "cell_type": "code",
   "execution_count": 16,
   "metadata": {},
   "outputs": [],
   "source": [
    "source_text = proc_text"
   ]
  },
  {
   "cell_type": "code",
   "execution_count": 17,
   "metadata": {},
   "outputs": [
    {
     "data": {
      "text/plain": [
       "{'title': 'PREAMBULO',\n",
       " 'text': 'El  Congreso  Constituyente  Democrático,  invocando  a  Dios  Todopoderoso, \\nobedeciendo  el  mandato  del  pueblo  peruano  y  recordando  el  sacrificio  de  todas  las \\ngeneraciones  que  nos  han  precedido  en  nuestra  Patria,  ha  resuelto  dar  la  siguiente \\nConstitución: \\n \\nCONSTITUCION POLITICA DEL PERU DE 1993 [^1]',\n",
       " 'footnotes': [{'ref': 1,\n",
       "   'text': 'De conformidad con el artículo 1 de la Ley N.º 27600, publicada el 16 diciembre 2001 en el diario oficial El Peruano, se suprime la firma de Alberto Fujimori Fujimori, del texto de la Constitución Política del Estado de 1993.'}]}"
      ]
     },
     "execution_count": 17,
     "metadata": {},
     "output_type": "execute_result"
    }
   ],
   "source": [
    "intro = {}\n",
    "pat = re.compile(r'\\w+\\b')\n",
    "mat = pat.match(source_text)\n",
    "intro['title'] = mat.group()\n",
    "source_text = source_text[mat.end():]\n",
    "mat = pat_title.search(source_text)\n",
    "intro['text'] = source_text[:mat.start()].strip()\n",
    "n = int(pat_ref.search(intro['text']).group(1))\n",
    "intro['footnotes'] = [{'ref': n, 'text': proc_footnotes[n]}]\n",
    "source_text = source_text[mat.start():]\n",
    "intro"
   ]
  },
  {
   "cell_type": "code",
   "execution_count": 18,
   "metadata": {},
   "outputs": [],
   "source": [
    "pat_title_cont = re.compile(r'(TITULO)\\s(\\w+)[\\s\\n]+([^\\n]+)')\n",
    "\n",
    "def get_titles(text):\n",
    "    titles = {}\n",
    "    mat = pat_title_cont.search(text)\n",
    "\n",
    "    while True:\n",
    "        n = roman_to_int(mat.group(2))\n",
    "        titles[n] = {'name': mat.group(3).strip()}\n",
    "        text = text[mat.end():]\n",
    "        mat = pat_title_cont.search(text)\n",
    "        titles[n]['text'] = text if mat is None else text[:mat.start()]\n",
    "        if mat is None: break\n",
    "            \n",
    "    return titles"
   ]
  },
  {
   "cell_type": "code",
   "execution_count": 19,
   "metadata": {},
   "outputs": [],
   "source": [
    "titles = get_titles(source_text)"
   ]
  },
  {
   "cell_type": "code",
   "execution_count": 20,
   "metadata": {},
   "outputs": [],
   "source": [
    "pat_chapter_cont = re.compile(r'(CAPITULO)\\s(\\w+)[\\s\\n]+([^\\n]+)')\n",
    "\n",
    "def get_chapters(text):\n",
    "    chapters = {}\n",
    "    mat = pat_chapter_cont.search(text)\n",
    "    if mat is None:\n",
    "        chapters['text'] = text\n",
    "        return chapters\n",
    "\n",
    "    while True:\n",
    "        n = roman_to_int(mat.group(2))\n",
    "        chapters[n] = {'name': mat.group(3).strip()}\n",
    "        text = text[mat.end():]\n",
    "        mat = pat_chapter_cont.search(text)\n",
    "        chapters[n]['text'] = text if mat is None else text[:mat.start()]\n",
    "        if mat is None: break\n",
    "            \n",
    "    return chapters\n",
    "\n",
    "def get_all_chapters(data):\n",
    "    return [{'title': k, 'chapters': get_chapters(v['text'])} for k,v in data.items()]"
   ]
  },
  {
   "cell_type": "code",
   "execution_count": 21,
   "metadata": {},
   "outputs": [],
   "source": [
    "chapters = get_all_chapters(titles)"
   ]
  },
  {
   "cell_type": "markdown",
   "metadata": {},
   "source": [
    "Special end sections"
   ]
  },
  {
   "cell_type": "code",
   "execution_count": 22,
   "metadata": {},
   "outputs": [],
   "source": [
    "end_titles = ['DISPOSICIONES FINALES Y TRANSITORIAS', 'DISPOSICIONES TRANSITORIAS ESPECIALES', 'DECLARACION']\n",
    "\n",
    "def get_end_sections(text, titles):\n",
    "    idxs = L(titles).map(lambda x: re.search(x, text)).map(lambda x: (x.start(),x.end()))\n",
    "    new_text = text[:idxs[0][0]]\n",
    "    idxs = list(chunked(idxs.concat()[1:] + [None], 2))\n",
    "    sections = [{'title': t, 'text': text[i:j].strip()} for t,(i,j) in zip(titles,idxs)]\n",
    "    return new_text,sections"
   ]
  },
  {
   "cell_type": "code",
   "execution_count": 23,
   "metadata": {},
   "outputs": [],
   "source": [
    "new_end,end_sections = get_end_sections(chapters[-1]['chapters']['text'], end_titles)\n",
    "chapters[-1]['chapters']['text'] = new_end"
   ]
  },
  {
   "cell_type": "markdown",
   "metadata": {},
   "source": [
    "Get articles"
   ]
  },
  {
   "cell_type": "code",
   "execution_count": 24,
   "metadata": {},
   "outputs": [],
   "source": [
    "pat_art_cont = re.compile(r'(Artículo)\\s+(\\d+)\\.-[\\s\\n]+([^\\n]+)')\n",
    "\n",
    "def get_articles(text):\n",
    "    articles = {}\n",
    "    mat = pat_art_cont.search(text)\n",
    "\n",
    "    while True:\n",
    "        n = int(mat.group(2))\n",
    "        articles[n] = {'name': mat.group(3).strip()}\n",
    "        text = text[mat.end():]\n",
    "        mat = pat_art_cont.search(text)\n",
    "        articles[n]['text'] = (text if mat is None else text[:mat.start()]).strip()\n",
    "        if mat is None: break\n",
    "            \n",
    "    return articles\n",
    "\n",
    "def get_all_articles(data):\n",
    "    res = []\n",
    "    for titles in data:\n",
    "        title = titles['title']\n",
    "        for chapter_n,chapter in titles['chapters'].items():\n",
    "            articles = get_articles(chapter) if chapter_n == 'text' else get_articles(chapter['text'])\n",
    "            if chapter_n == 'text': chapter_n = None\n",
    "            for n,article in articles.items():\n",
    "                d = {'title': title, 'chapter': chapter_n , 'article': n, **article}\n",
    "                res.append(d)\n",
    "            \n",
    "    return res"
   ]
  },
  {
   "cell_type": "code",
   "execution_count": 25,
   "metadata": {},
   "outputs": [],
   "source": [
    "articles = get_all_articles(chapters)"
   ]
  },
  {
   "cell_type": "code",
   "execution_count": 26,
   "metadata": {},
   "outputs": [],
   "source": [
    "def add_references(data, footnotes):\n",
    "    for d in data:\n",
    "        refs = pat_ref.findall(d['text'])\n",
    "        refs = [{'ref':int(ref), 'text':footnotes[int(ref)]} for ref in refs]\n",
    "        d['footnotes'] = refs"
   ]
  },
  {
   "cell_type": "code",
   "execution_count": 27,
   "metadata": {},
   "outputs": [],
   "source": [
    "add_references(articles, proc_footnotes)"
   ]
  },
  {
   "cell_type": "code",
   "execution_count": 28,
   "metadata": {},
   "outputs": [],
   "source": [
    "add_references(end_sections, proc_footnotes)"
   ]
  },
  {
   "cell_type": "markdown",
   "metadata": {},
   "source": [
    "Names"
   ]
  },
  {
   "cell_type": "code",
   "execution_count": 29,
   "metadata": {},
   "outputs": [],
   "source": [
    "def get_chapter_names(x):\n",
    "    if 'text' in x['chapters']: return {}\n",
    "    return {k:v['name'] for k,v in x['chapters'].items()}\n",
    "\n",
    "names = {k:{'name': v['name'], 'chapters': get_chapter_names(chapters[k-1])} for k,v in titles.items()}"
   ]
  },
  {
   "cell_type": "code",
   "execution_count": 37,
   "metadata": {},
   "outputs": [],
   "source": [
    "objs = [names, intro, articles, end_sections]\n",
    "names = ['names', 'intro', 'articles', 'end_sections']\n",
    "out_path = Path('../src/data')\n",
    "out_path.mkdir(exist_ok=True)"
   ]
  },
  {
   "cell_type": "code",
   "execution_count": 45,
   "metadata": {},
   "outputs": [],
   "source": [
    "for o,n in zip(objs,names):\n",
    "    with open(out_path / (n+'.json'), 'w') as f: json.dump(o, f)"
   ]
  },
  {
   "cell_type": "code",
   "execution_count": null,
   "metadata": {},
   "outputs": [],
   "source": []
  },
  {
   "cell_type": "code",
   "execution_count": null,
   "metadata": {},
   "outputs": [],
   "source": []
  },
  {
   "cell_type": "code",
   "execution_count": null,
   "metadata": {},
   "outputs": [],
   "source": []
  },
  {
   "cell_type": "code",
   "execution_count": null,
   "metadata": {},
   "outputs": [],
   "source": []
  },
  {
   "cell_type": "code",
   "execution_count": null,
   "metadata": {},
   "outputs": [],
   "source": []
  },
  {
   "cell_type": "code",
   "execution_count": null,
   "metadata": {},
   "outputs": [],
   "source": []
  },
  {
   "cell_type": "code",
   "execution_count": null,
   "metadata": {},
   "outputs": [],
   "source": []
  }
 ],
 "metadata": {
  "kernelspec": {
   "display_name": "base_env",
   "language": "python",
   "name": "base"
  },
  "language_info": {
   "codemirror_mode": {
    "name": "ipython",
    "version": 3
   },
   "file_extension": ".py",
   "mimetype": "text/x-python",
   "name": "python",
   "nbconvert_exporter": "python",
   "pygments_lexer": "ipython3",
   "version": "3.7.7"
  },
  "toc": {
   "base_numbering": 1,
   "nav_menu": {},
   "number_sections": true,
   "sideBar": true,
   "skip_h1_title": false,
   "title_cell": "Table of Contents",
   "title_sidebar": "Contents",
   "toc_cell": false,
   "toc_position": {},
   "toc_section_display": true,
   "toc_window_display": false
  }
 },
 "nbformat": 4,
 "nbformat_minor": 4
}
