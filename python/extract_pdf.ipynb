{
 "cells": [
  {
   "cell_type": "code",
   "execution_count": 1,
   "metadata": {},
   "outputs": [],
   "source": [
    "%reload_ext autoreload\n",
    "%autoreload 2\n",
    "from fastcore.all import *\n",
    "from extract_pdf import *"
   ]
  },
  {
   "cell_type": "code",
   "execution_count": 2,
   "metadata": {},
   "outputs": [],
   "source": [
    "config = ConfigParser()\n",
    "config.read('settings.ini')\n",
    "cfg = config['DEFAULT']\n",
    "path = download_pdf(cfg['url'], cfg['dest'])"
   ]
  },
  {
   "cell_type": "code",
   "execution_count": 3,
   "metadata": {},
   "outputs": [],
   "source": [
    "source_text,pdf_footnotes = read_pdf_with_footnotes(path)"
   ]
  },
  {
   "cell_type": "code",
   "execution_count": 4,
   "metadata": {},
   "outputs": [],
   "source": [
    "pdf_text,intro = get_intro(source_text, pdf_footnotes)"
   ]
  },
  {
   "cell_type": "code",
   "execution_count": 5,
   "metadata": {},
   "outputs": [],
   "source": [
    "titles = get_titles(source_text)\n",
    "chapters = get_all_chapters(titles)"
   ]
  },
  {
   "cell_type": "code",
   "execution_count": 6,
   "metadata": {},
   "outputs": [],
   "source": [
    "new_end,end_sections = get_end_sections(chapters[-1]['chapters']['text'], END_TITLES)\n",
    "chapters[-1]['chapters']['text'] = new_end"
   ]
  },
  {
   "cell_type": "code",
   "execution_count": 7,
   "metadata": {},
   "outputs": [],
   "source": [
    "articles = get_all_articles(chapters)"
   ]
  },
  {
   "cell_type": "code",
   "execution_count": 8,
   "metadata": {},
   "outputs": [],
   "source": [
    "add_references(articles, pdf_footnotes, 'name')\n",
    "add_references(articles, pdf_footnotes)\n",
    "add_references(end_sections, pdf_footnotes)\n",
    "names = [{'i': k, 'name': v['name'], 'chapters': get_chapter_names(chapters[k-1])} for k,v in titles.items()]\n",
    "for title in names: add_references(title['chapters'], pdf_footnotes, 'name')"
   ]
  },
  {
   "cell_type": "markdown",
   "metadata": {},
   "source": [
    "TODO:\n",
    "- deal with articles with no names"
   ]
  },
  {
   "cell_type": "code",
   "execution_count": 9,
   "metadata": {},
   "outputs": [
    {
     "data": {
      "text/plain": [
       "{'title': 4,\n",
       " 'chapter': 13,\n",
       " 'article': 196,\n",
       " 'name': 'Son bienes y rentas de las municipalidades:',\n",
       " 'text': '1. Los bienes muebles e inmuebles de su propiedad. \\n \\n2. Los tributos creados por ley a su favor. \\n \\n3. Las contribuciones, tasas, arbitrios, licencias y derechos creados por Ordenanzas \\nMunicipales, conforme a ley. \\n \\n4. Los derechos económicos que generen por las privatizaciones, concesiones y servicios \\nque otorguen, conforme a ley. \\n \\n5. Los recursos asignados del Fondo de Compensación Municipal, que tiene carácter \\nredistributivo, conforme a ley. \\n \\n6. Las transferencias específicas que les asigne la Ley Anual de Presupuesto. \\n \\n7. Los recursos asignados por concepto de canon. \\n \\n8. Los recursos provenientes de sus operaciones financieras, incluyendo aquellas que \\nrequieran el aval del Estado, conforme a ley. \\n \\n9. Los demás que determine la ley.',\n",
       " 'footnotes': []}"
      ]
     },
     "execution_count": 9,
     "metadata": {},
     "output_type": "execute_result"
    }
   ],
   "source": [
    "articles[195]"
   ]
  },
  {
   "cell_type": "code",
   "execution_count": null,
   "metadata": {},
   "outputs": [],
   "source": []
  },
  {
   "cell_type": "code",
   "execution_count": null,
   "metadata": {},
   "outputs": [],
   "source": []
  },
  {
   "cell_type": "code",
   "execution_count": null,
   "metadata": {},
   "outputs": [],
   "source": []
  },
  {
   "cell_type": "code",
   "execution_count": null,
   "metadata": {},
   "outputs": [],
   "source": []
  },
  {
   "cell_type": "code",
   "execution_count": null,
   "metadata": {},
   "outputs": [],
   "source": []
  },
  {
   "cell_type": "code",
   "execution_count": null,
   "metadata": {},
   "outputs": [],
   "source": []
  },
  {
   "cell_type": "code",
   "execution_count": null,
   "metadata": {},
   "outputs": [],
   "source": []
  },
  {
   "cell_type": "code",
   "execution_count": null,
   "metadata": {},
   "outputs": [],
   "source": []
  },
  {
   "cell_type": "code",
   "execution_count": null,
   "metadata": {},
   "outputs": [],
   "source": []
  },
  {
   "cell_type": "code",
   "execution_count": null,
   "metadata": {},
   "outputs": [],
   "source": []
  },
  {
   "cell_type": "code",
   "execution_count": null,
   "metadata": {},
   "outputs": [],
   "source": []
  },
  {
   "cell_type": "code",
   "execution_count": null,
   "metadata": {},
   "outputs": [],
   "source": []
  }
 ],
 "metadata": {
  "kernelspec": {
   "display_name": "base_env",
   "language": "python",
   "name": "base"
  },
  "language_info": {
   "codemirror_mode": {
    "name": "ipython",
    "version": 3
   },
   "file_extension": ".py",
   "mimetype": "text/x-python",
   "name": "python",
   "nbconvert_exporter": "python",
   "pygments_lexer": "ipython3",
   "version": "3.7.7"
  },
  "toc": {
   "base_numbering": 1,
   "nav_menu": {},
   "number_sections": true,
   "sideBar": true,
   "skip_h1_title": false,
   "title_cell": "Table of Contents",
   "title_sidebar": "Contents",
   "toc_cell": false,
   "toc_position": {},
   "toc_section_display": true,
   "toc_window_display": false
  }
 },
 "nbformat": 4,
 "nbformat_minor": 4
}
